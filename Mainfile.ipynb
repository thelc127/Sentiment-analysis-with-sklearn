
#importing libararies and loading dataset
import pandas as pd 

df = pd.read_csv('data/movie_data.csv')
df.head(10)
df['review'][0]